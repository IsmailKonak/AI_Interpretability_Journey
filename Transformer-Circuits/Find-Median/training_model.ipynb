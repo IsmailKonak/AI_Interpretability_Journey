{
 "cells": [
  {
   "attachments": {},
   "cell_type": "markdown",
   "metadata": {},
   "source": [
    "## Setup"
   ]
  },
  {
   "cell_type": "code",
   "execution_count": null,
   "metadata": {},
   "outputs": [],
   "source": [
    "import os\n",
    "import sys\n",
    "from functools import partial\n",
    "import json\n",
    "from typing import List, Tuple, Union, Optional, Callable, Dict\n",
    "import torch as t\n",
    "from torch import Tensor\n",
    "import numpy as np\n",
    "from plotly.subplots import make_subplots\n",
    "import plotly.express as px\n",
    "import plotly.graph_objects as go\n",
    "import einops\n",
    "from tqdm import tqdm\n",
    "from jaxtyping import Float, Int, Bool\n",
    "from pathlib import Path\n",
    "import pandas as pd\n",
    "import circuitsvis as cv\n",
    "import webbrowser\n",
    "from IPython.display import display\n",
    "from transformer_lens import utils, ActivationCache, HookedTransformer, HookedTransformerConfig\n",
    "from transformer_lens.hook_points import HookPoint\n",
    "from transformer_lens.components import LayerNorm\n",
    "\n",
    "from model import create_model\n",
    "from training import train, TrainArgs\n",
    "from dataset import MedianDataset\n",
    "from plotly_utils import hist, bar, imshow\n",
    "\n",
    "device = t.device(\"cuda\" if t.cuda.is_available() else \"cpu\")\n",
    "\n",
    "MAIN = __name__ == \"__main__\""
   ]
  },
  {
   "cell_type": "markdown",
   "metadata": {},
   "source": [
    "## Dataset"
   ]
  },
  {
   "cell_type": "code",
   "execution_count": null,
   "metadata": {},
   "outputs": [],
   "source": [
    "dataset = MedianDataset(size=5, max_num=100, length=7, seed=23)\n",
    "\n",
    "print(\"Raw List\",dataset[0][:-1])\n",
    "print(\"Sorted List\",dataset[0][:-1].sort().values)\n",
    "print(\"Sorted List Median\",dataset[0][:-1].sort().values[dataset.length//2])\n",
    "print(\"Label\",dataset[0][-1])"
   ]
  },
  {
   "attachments": {},
   "cell_type": "markdown",
   "metadata": {},
   "source": [
    "## Transformer"
   ]
  },
  {
   "cell_type": "code",
   "execution_count": null,
   "metadata": {},
   "outputs": [],
   "source": [
    "import time\n",
    "\n",
    "print(\"Starting training\")\n",
    "start = time.time()\n",
    "args = TrainArgs(\n",
    "    max_num=50,\n",
    "    seq_len=7,\n",
    "    trainset_size=int(8_000*6),\n",
    "    valset_size=int(8_000*3),\n",
    "    epochs=200,\n",
    "    batch_size=1024,\n",
    "    lr=3e-3,\n",
    "    seed=23,\n",
    "    d_model=32,\n",
    "    d_head=32,\n",
    "    n_layers=1,\n",
    "    n_heads=1,\n",
    "    d_mlp=None,\n",
    "    normalization_type=\"LN\",\n",
    "    use_wandb=True,\n",
    "    device=device,\n",
    ")\n",
    "model = train(args)\n",
    "\n",
    "print(f\"Training took {time.time() - start:.2f} seconds\")"
   ]
  },
  {
   "cell_type": "code",
   "execution_count": null,
   "metadata": {},
   "outputs": [],
   "source": [
    "example = t.tensor([45,39,5,]).to(device)\n",
    "print(\"Example\", example)\n",
    "print(\"Label\", example.median())\n",
    "logits = model(example.unsqueeze(0))\n",
    "out = t.argmax(logits, dim=-1)\n",
    "print(\"Prediction\", out)"
   ]
  },
  {
   "cell_type": "code",
   "execution_count": null,
   "metadata": {},
   "outputs": [],
   "source": [
    "# Save the model\n",
    "filename =  \"median_model4.pt\"\n",
    "t.save(model.state_dict(), filename)\n"
   ]
  },
  {
   "cell_type": "code",
   "execution_count": null,
   "metadata": {},
   "outputs": [],
   "source": []
  },
  {
   "cell_type": "code",
   "execution_count": null,
   "metadata": {},
   "outputs": [],
   "source": []
  }
 ],
 "metadata": {
  "kernelspec": {
   "display_name": "interp",
   "language": "python",
   "name": "python3"
  },
  "language_info": {
   "codemirror_mode": {
    "name": "ipython",
    "version": 3
   },
   "file_extension": ".py",
   "mimetype": "text/x-python",
   "name": "python",
   "nbconvert_exporter": "python",
   "pygments_lexer": "ipython3",
   "version": "3.12.3"
  },
  "orig_nbformat": 4
 },
 "nbformat": 4,
 "nbformat_minor": 2
}
