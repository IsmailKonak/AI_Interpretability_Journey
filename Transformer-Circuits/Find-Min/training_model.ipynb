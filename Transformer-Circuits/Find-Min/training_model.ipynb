{
 "cells": [
  {
   "attachments": {},
   "cell_type": "markdown",
   "metadata": {},
   "source": [
    "## Setup"
   ]
  },
  {
   "cell_type": "code",
   "execution_count": 16,
   "metadata": {},
   "outputs": [],
   "source": [
    "import os\n",
    "import sys\n",
    "from functools import partial\n",
    "import json\n",
    "from typing import List, Tuple, Union, Optional, Callable, Dict\n",
    "import torch as t\n",
    "from torch import Tensor\n",
    "import numpy as np\n",
    "from plotly.subplots import make_subplots\n",
    "import plotly.express as px\n",
    "import plotly.graph_objects as go\n",
    "import einops\n",
    "from tqdm import tqdm\n",
    "from jaxtyping import Float, Int, Bool\n",
    "from pathlib import Path\n",
    "import pandas as pd\n",
    "import circuitsvis as cv\n",
    "import webbrowser\n",
    "from IPython.display import display\n",
    "from transformer_lens import utils, ActivationCache, HookedTransformer, HookedTransformerConfig\n",
    "from transformer_lens.hook_points import HookPoint\n",
    "from transformer_lens.components import LayerNorm\n",
    "\n",
    "from model import create_model\n",
    "from training import train, TrainArgs\n",
    "from dataset import MinDataset\n",
    "from plotly_utils import hist, bar, imshow\n",
    "\n",
    "device = t.device(\"cuda\" if t.cuda.is_available() else \"cpu\")\n",
    "\n",
    "MAIN = __name__ == \"__main__\""
   ]
  },
  {
   "cell_type": "markdown",
   "metadata": {},
   "source": [
    "## Dataset"
   ]
  },
  {
   "cell_type": "code",
   "execution_count": 17,
   "metadata": {},
   "outputs": [
    {
     "name": "stdout",
     "output_type": "stream",
     "text": [
      "Raw List tensor([91, 46, 16, 97, 30, 12, 27])\n",
      "Sorted List tensor([12, 16, 27, 30, 46, 91, 97])\n",
      "Sorted List Min tensor(12)\n",
      "Label tensor(12)\n"
     ]
    }
   ],
   "source": [
    "dataset = MinDataset(size=5, max_num=100, length=7, seed=23)\n",
    "\n",
    "print(\"Raw List\",dataset[0][:-1])\n",
    "print(\"Sorted List\",dataset[0][:-1].sort().values)\n",
    "print(\"Sorted List Min\",dataset[0][:-1].min(dim=-1).values)\n",
    "print(\"Label\",dataset[0][-1])"
   ]
  },
  {
   "attachments": {},
   "cell_type": "markdown",
   "metadata": {},
   "source": [
    "## Transformer"
   ]
  },
  {
   "cell_type": "code",
   "execution_count": 18,
   "metadata": {},
   "outputs": [
    {
     "name": "stdout",
     "output_type": "stream",
     "text": [
      "Starting training\n"
     ]
    },
    {
     "name": "stderr",
     "output_type": "stream",
     "text": [
      "Epoch 00, Train loss = 1.9920, Accuracy = 0.609, Val loss = 1.9301, Val Accuracy = 0.637: : 30it [00:01, 23.50it/s]\n",
      "Epoch 01, Train loss = 0.4379, Accuracy = 0.967, Val loss = 0.4100, Val Accuracy = 0.971: : 30it [00:00, 34.72it/s]\n",
      "Epoch 02, Train loss = 0.1341, Accuracy = 0.988, Val loss = 0.1445, Val Accuracy = 0.986: : 30it [00:00, 34.02it/s]\n",
      "Epoch 03, Train loss = 0.0761, Accuracy = 0.990, Val loss = 0.0831, Val Accuracy = 0.989: : 30it [00:00, 34.17it/s]\n",
      "Epoch 04, Train loss = 0.0544, Accuracy = 0.997, Val loss = 0.0587, Val Accuracy = 0.992: : 30it [00:00, 36.79it/s]\n",
      "Epoch 05, Train loss = 0.0345, Accuracy = 0.998, Val loss = 0.0375, Val Accuracy = 0.996: : 30it [00:00, 33.76it/s]\n",
      "Epoch 06, Train loss = 0.0384, Accuracy = 0.995, Val loss = 0.0270, Val Accuracy = 0.997: : 30it [00:00, 37.30it/s]\n",
      "Epoch 07, Train loss = 0.0241, Accuracy = 0.997, Val loss = 0.0232, Val Accuracy = 0.997: : 30it [00:00, 32.67it/s]\n",
      "Epoch 08, Train loss = 0.0255, Accuracy = 0.995, Val loss = 0.0189, Val Accuracy = 0.997: : 30it [00:00, 34.39it/s]\n",
      "Epoch 09, Train loss = 0.0287, Accuracy = 0.993, Val loss = 0.0150, Val Accuracy = 0.998: : 30it [00:00, 33.06it/s]\n",
      "Epoch 10, Train loss = 0.0194, Accuracy = 0.997, Val loss = 0.0123, Val Accuracy = 0.999: : 30it [00:00, 38.55it/s]\n",
      "Epoch 11, Train loss = 0.0068, Accuracy = 1.000, Val loss = 0.0093, Val Accuracy = 0.999: : 30it [00:00, 30.88it/s]\n",
      "Epoch 12, Train loss = 0.0090, Accuracy = 0.998, Val loss = 0.0085, Val Accuracy = 0.999: : 30it [00:00, 31.65it/s]\n",
      "Epoch 13, Train loss = 0.0052, Accuracy = 1.000, Val loss = 0.0070, Val Accuracy = 0.999: : 30it [00:00, 35.79it/s]\n",
      "Epoch 14, Train loss = 0.0094, Accuracy = 0.998, Val loss = 0.0061, Val Accuracy = 0.999: : 30it [00:00, 37.35it/s]\n",
      "Epoch 15, Train loss = 0.0037, Accuracy = 1.000, Val loss = 0.0050, Val Accuracy = 1.000: : 30it [00:00, 33.42it/s]\n",
      "Epoch 16, Train loss = 0.0033, Accuracy = 1.000, Val loss = 0.0046, Val Accuracy = 1.000: : 30it [00:00, 33.62it/s]\n",
      "Epoch 17, Train loss = 0.0031, Accuracy = 1.000, Val loss = 0.0041, Val Accuracy = 1.000: : 30it [00:00, 33.91it/s]\n",
      "Epoch 18, Train loss = 0.0031, Accuracy = 1.000, Val loss = 0.0048, Val Accuracy = 0.999: : 30it [00:00, 34.16it/s]\n",
      "Epoch 19, Train loss = 0.0033, Accuracy = 1.000, Val loss = 0.0062, Val Accuracy = 0.999: : 30it [00:00, 34.41it/s]\n",
      "Epoch 20, Train loss = 0.0149, Accuracy = 0.995, Val loss = 0.0447, Val Accuracy = 0.988: : 30it [00:00, 38.27it/s]\n",
      "Epoch 21, Train loss = 0.0088, Accuracy = 0.998, Val loss = 0.0067, Val Accuracy = 0.999: : 30it [00:00, 35.38it/s]\n",
      "Epoch 22, Train loss = 0.0051, Accuracy = 1.000, Val loss = 0.0039, Val Accuracy = 0.999: : 30it [00:00, 33.44it/s]\n",
      "Epoch 23, Train loss = 0.0022, Accuracy = 1.000, Val loss = 0.0031, Val Accuracy = 0.999: : 30it [00:00, 33.71it/s]\n",
      "Epoch 24, Train loss = 0.0034, Accuracy = 1.000, Val loss = 0.0029, Val Accuracy = 1.000: : 30it [00:00, 34.53it/s]\n",
      "Epoch 25, Train loss = 0.0036, Accuracy = 1.000, Val loss = 0.0025, Val Accuracy = 1.000: : 30it [00:00, 33.67it/s]\n",
      "Epoch 26, Train loss = 0.0016, Accuracy = 1.000, Val loss = 0.0026, Val Accuracy = 1.000: : 30it [00:00, 35.86it/s]\n",
      "Epoch 27, Train loss = 0.0032, Accuracy = 1.000, Val loss = 0.0025, Val Accuracy = 1.000: : 30it [00:00, 31.35it/s]\n",
      "Epoch 28, Train loss = 0.0011, Accuracy = 1.000, Val loss = 0.0019, Val Accuracy = 1.000: : 30it [00:00, 34.67it/s]\n",
      "Epoch 29, Train loss = 0.0019, Accuracy = 1.000, Val loss = 0.0018, Val Accuracy = 1.000: : 30it [00:00, 34.72it/s]\n",
      "Epoch 30, Train loss = 0.0009, Accuracy = 1.000, Val loss = 0.0016, Val Accuracy = 1.000: : 30it [00:00, 35.39it/s]\n",
      "Epoch 31, Train loss = 0.0008, Accuracy = 1.000, Val loss = 0.0018, Val Accuracy = 1.000: : 30it [00:00, 36.12it/s]\n",
      "Epoch 32, Train loss = 0.0009, Accuracy = 1.000, Val loss = 0.0015, Val Accuracy = 1.000: : 30it [00:00, 33.06it/s]\n",
      "Epoch 33, Train loss = 0.0007, Accuracy = 1.000, Val loss = 0.0015, Val Accuracy = 1.000: : 30it [00:00, 36.02it/s]\n",
      "Epoch 34, Train loss = 0.0007, Accuracy = 1.000, Val loss = 0.0014, Val Accuracy = 1.000: : 30it [00:00, 38.17it/s]\n",
      "Epoch 35, Train loss = 0.0013, Accuracy = 1.000, Val loss = 0.0014, Val Accuracy = 1.000: : 30it [00:00, 34.40it/s]\n",
      "Epoch 36, Train loss = 0.0007, Accuracy = 1.000, Val loss = 0.0013, Val Accuracy = 1.000: : 30it [00:00, 31.95it/s]\n",
      "Epoch 37, Train loss = 0.0006, Accuracy = 1.000, Val loss = 0.0013, Val Accuracy = 1.000: : 30it [00:00, 30.92it/s]\n",
      "Epoch 38, Train loss = 0.0006, Accuracy = 1.000, Val loss = 0.0012, Val Accuracy = 1.000: : 30it [00:00, 36.15it/s]\n",
      "Epoch 39, Train loss = 0.0006, Accuracy = 1.000, Val loss = 0.0012, Val Accuracy = 1.000: : 30it [00:00, 31.58it/s]\n",
      "Epoch 40, Train loss = 0.0006, Accuracy = 1.000, Val loss = 0.0011, Val Accuracy = 1.000: : 30it [00:00, 37.02it/s]\n",
      "Epoch 41, Train loss = 0.0005, Accuracy = 1.000, Val loss = 0.0010, Val Accuracy = 1.000: : 30it [00:00, 35.77it/s]\n",
      "Epoch 42, Train loss = 0.0005, Accuracy = 1.000, Val loss = 0.0010, Val Accuracy = 1.000: : 30it [00:00, 38.63it/s]\n",
      "Epoch 43, Train loss = 0.0005, Accuracy = 1.000, Val loss = 0.0010, Val Accuracy = 1.000: : 30it [00:00, 30.71it/s]\n",
      "Epoch 44, Train loss = 0.0005, Accuracy = 1.000, Val loss = 0.0009, Val Accuracy = 1.000: : 30it [00:00, 36.28it/s]\n",
      "Epoch 45, Train loss = 0.0005, Accuracy = 1.000, Val loss = 0.0009, Val Accuracy = 1.000: : 30it [00:00, 33.75it/s]\n",
      "Epoch 46, Train loss = 0.0004, Accuracy = 1.000, Val loss = 0.0009, Val Accuracy = 1.000: : 30it [00:00, 32.47it/s]\n",
      "Epoch 47, Train loss = 0.0004, Accuracy = 1.000, Val loss = 0.0008, Val Accuracy = 1.000: : 30it [00:00, 32.63it/s]\n",
      "Epoch 48, Train loss = 0.0006, Accuracy = 1.000, Val loss = 0.0008, Val Accuracy = 1.000: : 30it [00:00, 34.85it/s]\n",
      "Epoch 49, Train loss = 0.0004, Accuracy = 1.000, Val loss = 0.0007, Val Accuracy = 1.000: : 30it [00:00, 30.97it/s]"
     ]
    },
    {
     "name": "stdout",
     "output_type": "stream",
     "text": [
      "Returning best model from epoch 30/50, with accuracy 1.000\n",
      "Training took 45.14 seconds\n"
     ]
    },
    {
     "name": "stderr",
     "output_type": "stream",
     "text": [
      "\n"
     ]
    }
   ],
   "source": [
    "import time\n",
    "\n",
    "print(\"Starting training\")\n",
    "start = time.time()\n",
    "args = TrainArgs(\n",
    "    max_num=50,\n",
    "    seq_len=4,\n",
    "    trainset_size=int(60_000),\n",
    "    valset_size=int(20_000),\n",
    "    epochs=50,\n",
    "    batch_size=2048,\n",
    "    lr=3e-3,\n",
    "    seed=23,\n",
    "    d_model=24,\n",
    "    d_head=24,\n",
    "    n_layers=1,\n",
    "    n_heads=1,\n",
    "    d_mlp=None,\n",
    "    normalization_type=\"LN\",\n",
    "    use_wandb=False,\n",
    "    device=device,\n",
    ")\n",
    "model = train(args)\n",
    "\n",
    "print(f\"Training took {time.time() - start:.2f} seconds\")"
   ]
  },
  {
   "cell_type": "code",
   "execution_count": 19,
   "metadata": {},
   "outputs": [],
   "source": [
    "# example = t.tensor([45,39]).to(device)\n",
    "# print(\"Example\", example)\n",
    "# print(\"Label\", example.min())\n",
    "# logits = model(example.unsqueeze(0))\n",
    "# out = t.argmax(logits, dim=-1)\n",
    "# print(\"Prediction\", out)"
   ]
  },
  {
   "cell_type": "code",
   "execution_count": 20,
   "metadata": {},
   "outputs": [],
   "source": [
    "# Save the model\n",
    "filename =  \"models/min_model3.pt\"\n",
    "t.save(model.state_dict(), filename)\n"
   ]
  },
  {
   "cell_type": "code",
   "execution_count": null,
   "metadata": {},
   "outputs": [],
   "source": []
  },
  {
   "cell_type": "code",
   "execution_count": null,
   "metadata": {},
   "outputs": [],
   "source": []
  }
 ],
 "metadata": {
  "kernelspec": {
   "display_name": "interp",
   "language": "python",
   "name": "python3"
  },
  "language_info": {
   "codemirror_mode": {
    "name": "ipython",
    "version": 3
   },
   "file_extension": ".py",
   "mimetype": "text/x-python",
   "name": "python",
   "nbconvert_exporter": "python",
   "pygments_lexer": "ipython3",
   "version": "3.12.3"
  },
  "orig_nbformat": 4
 },
 "nbformat": 4,
 "nbformat_minor": 2
}
